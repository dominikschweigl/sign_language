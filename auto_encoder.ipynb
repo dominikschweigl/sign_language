{
   "cells": [
      {
         "cell_type": "markdown",
         "id": "15e17303",
         "metadata": {
            "deletable": false,
            "editable": false,
            "nbgrader": {
               "cell_type": "markdown",
               "checksum": "fe8515d8e0eb388ce79930ea7b6c63cb",
               "grade": false,
               "grade_id": "cell-14bdc41e163110b6",
               "locked": true,
               "schema_version": 3,
               "solution": false,
               "task": false
            }
         },
         "source": [
            "# Sign Language Dataset"
         ]
      },
      {
         "cell_type": "markdown",
         "id": "0380380d",
         "metadata": {
            "deletable": false,
            "editable": false,
            "nbgrader": {
               "cell_type": "markdown",
               "checksum": "340354f8bc0f0c53961e7f6762bd47e8",
               "grade": false,
               "grade_id": "cell-51db7564f748aef7",
               "locked": true,
               "schema_version": 3,
               "solution": false,
               "task": false
            }
         },
         "source": [
            "The Sign Language Dataset consists of 9680 grayscale images of hand signs for the digits 0-9 and the alphabets a-z. Thus, this is a multiclass classification problem with 36 classes. Your task is to build a machine learning model that can accurately classify images from this dataset."
         ]
      },
      {
         "cell_type": "markdown",
         "id": "87790d5e",
         "metadata": {
            "deletable": false,
            "editable": false,
            "nbgrader": {
               "cell_type": "markdown",
               "checksum": "dfd3766dc129d20a384b6fe374f898ba",
               "grade": false,
               "grade_id": "cell-e4af33c6fde73887",
               "locked": true,
               "schema_version": 3,
               "solution": false,
               "task": false
            }
         },
         "source": [
            "## Loading the dataset\n",
            "\n",
            "You **do not** need to upload any data. Both the visible training dataset and the hidden test dataset are already available on the Jupyter hub."
         ]
      },
      {
         "cell_type": "code",
         "execution_count": 4,
         "id": "cf043b71",
         "metadata": {
            "deletable": false,
            "editable": false,
            "nbgrader": {
               "cell_type": "code",
               "checksum": "ef93277d6faf4a26d52b648647386063",
               "grade": false,
               "grade_id": "cell-8c7257ef51480021",
               "locked": true,
               "schema_version": 3,
               "solution": false,
               "task": false
            }
         },
         "outputs": [],
         "source": [
            "import os\n",
            "import csv\n",
            "import cv2\n",
            "import random\n",
            "import numpy as np\n",
            "import matplotlib.pyplot as plt"
         ]
      },
      {
         "cell_type": "code",
         "execution_count": null,
         "id": "4df5ed83",
         "metadata": {
            "deletable": false,
            "editable": false,
            "nbgrader": {
               "cell_type": "code",
               "checksum": "a02a22a7620265e33abf343ddd5473e7",
               "grade": false,
               "grade_id": "cell-636bfe55501bec94",
               "locked": true,
               "schema_version": 3,
               "solution": false,
               "task": false
            }
         },
         "outputs": [],
         "source": [
            "running_local = True if os.getenv('JUPYTERHUB_USER') is None else False\n",
            "DATASET_PATH = \"./data/\"\n",
            "\n",
            "if running_local:\n",
            "    local_path = \"./data/sign_lang_train\"\n",
            "    if os.path.exists(local_path):\n",
            "        DATASET_PATH = local_path\n",
            "else:\n",
            "    DATASET_PATH = \"/data/mlproject22/sign_lang_train\""
         ]
      },
      {
         "cell_type": "code",
         "execution_count": null,
         "id": "ba210aa6",
         "metadata": {
            "deletable": false,
            "editable": false,
            "nbgrader": {
               "cell_type": "code",
               "checksum": "80e80b0135d964a577c59224e58423d4",
               "grade": false,
               "grade_id": "cell-8532dde78b48d38e",
               "locked": true,
               "schema_version": 3,
               "solution": false,
               "task": false
            }
         },
         "outputs": [],
         "source": [
            "def read_csv(csv_file):\n",
            "    with open(csv_file, newline='') as f:\n",
            "        reader = csv.reader(f)\n",
            "        data = list(reader)\n",
            "    return data"
         ]
      },
      {
         "cell_type": "markdown",
         "id": "444d7052",
         "metadata": {
            "deletable": false,
            "editable": false,
            "nbgrader": {
               "cell_type": "markdown",
               "checksum": "bc0334c0cfa0645319a201d00563c638",
               "grade": false,
               "grade_id": "cell-f6ce53d70b7a4b20",
               "locked": true,
               "schema_version": 3,
               "solution": false,
               "task": false
            }
         },
         "source": [
            "## Data Loading using PyTorch\n",
            "\n",
            "For creating and training your model, you can work with any machine learning library of your choice. \n",
            "\n",
            "If you choose to work with [PyTorch](https://pytorch.org/), you will need to create your own [Dataset](https://pytorch.org/docs/stable/data.html#torch.utils.data.Dataset) class for loading the data. This is provided below. See [here](https://pytorch.org/tutorials/beginner/data_loading_tutorial.html) for a nice example of how to create a custom data loading pipeline in PyTorch. "
         ]
      },
      {
         "cell_type": "code",
         "execution_count": null,
         "id": "dfc4dace",
         "metadata": {
            "deletable": false,
            "editable": false,
            "nbgrader": {
               "cell_type": "code",
               "checksum": "d630842cb12330f47d985a7d0f22823f",
               "grade": false,
               "grade_id": "cell-0e305bc0958e0408",
               "locked": true,
               "schema_version": 3,
               "solution": false,
               "task": false
            }
         },
         "outputs": [],
         "source": [
            "import torch\n",
            "from torch.utils.data import Dataset, DataLoader, random_split\n",
            "from torchvision import transforms, utils, io\n",
            "from torchvision.utils import make_grid\n",
            "from PIL import Image\n",
            "\n",
            "from string import ascii_lowercase\n",
            "\n",
            "class SignLangDataset(Dataset):\n",
            "    \"\"\"Sign language dataset\"\"\"\n",
            "\n",
            "    def __init__(self, csv_file, root_dir, transform=None):\n",
            "        \"\"\"\n",
            "        Args:\n",
            "            csv_file (string): Path to the csv file with annotations.\n",
            "            root_dir (string): Directory with all the images.\n",
            "            transform (callable, optional): Optional transform to be applied on a sample.\n",
            "        \"\"\"\n",
            "        self.data = read_csv(os.path.join(root_dir,csv_file))\n",
            "        self.root_dir = root_dir\n",
            "        self.transform = transform\n",
            "        self.class_names = list(map(str, list(range(10)))) + list(ascii_lowercase)\n",
            "\n",
            "    def __len__(self):\n",
            "        \"\"\"\n",
            "        Calculates the length of the dataset-\n",
            "        \"\"\"\n",
            "        return len(self.data)\n",
            "\n",
            "    def __getitem__(self, idx):\n",
            "        \"\"\"\n",
            "        Returns one sample (dict consisting of an image and its label)\n",
            "        \"\"\"\n",
            "        if torch.is_tensor(idx):\n",
            "            idx = idx.tolist()\n",
            "\n",
            "        image_path = os.path.join(self.root_dir, self.data[idx][1])\n",
            "        \n",
            "        image = Image.open(image_path).convert(\"L\")\n",
            "\n",
            "        if self.transform:\n",
            "            image = self.transform(image)\n",
            "\n",
            "        label = self.class_names.index(self.data[idx][0])\n",
            "        \n",
            "        sample = {'image': image, 'label': label}\n",
            "\n",
            "        return sample\n",
            "    \n",
            "    def show_sample(self, idx: int) -> None:\n",
            "        \"\"\"\n",
            "        Displays a grayscale image with its corresponding class label (0-35).\n",
            "        \n",
            "        Args:\n",
            "            image (numpy.ndarray): The image to display. Shape should be (1, H, W) or (H, W).\n",
            "            label (int): Integer label in range 0-35.\n",
            "        \"\"\"\n",
            "\n",
            "        sample = self[idx]\n",
            "        image = sample[\"image\"]\n",
            "        label_index = sample[\"label\"]\n",
            "        label = self.class_names[label_index]\n",
            "\n",
            "        # Flatten channel dimension if needed\n",
            "        if image.ndim == 3 and image.shape[0] == 1:\n",
            "            image = image[0] \n",
            "        \n",
            "        plt.imshow(image, cmap=\"gray\")\n",
            "        plt.title(f\"Label: {label}\")\n",
            "        plt.axis(\"off\")\n",
            "        plt.show()\n",
            "\n",
            "class_names = list(map(str, range(10))) + list(ascii_lowercase)\n",
            "\n",
            "transform = transforms.Compose([\n",
            "    transforms.ToTensor(),\n",
            "    transforms.Resize((128, 128)),\n",
            "    transforms.RandomRotation(15),\n",
            "    transforms.RandomHorizontalFlip(),\n",
            "    transforms.RandomResizedCrop(128, scale=(0.8, 1.0)),\n",
            "])\n",
            "\n",
            "sign_dataset = SignLangDataset(\"labels_manipulated.csv\", os.path.join(DATASET_PATH, \"images_manipulated\"), transform)\n",
            "\n",
            "device = torch.device(\"cuda\" if torch.cuda.is_available() else \"cpu\")\n"
         ]
      },
      {
         "cell_type": "markdown",
         "id": "a6000a3d",
         "metadata": {},
         "source": [
            "### Test Train Data Split\n"
         ]
      },
      {
         "cell_type": "code",
         "execution_count": null,
         "id": "c8f75f25",
         "metadata": {},
         "outputs": [
            {
               "data": {
                  "image/png": "[encoded data removed]",
                  "text/plain": [
                     "<Figure size 640x480 with 1 Axes>"
                  ]
               },
               "metadata": {},
               "output_type": "display_data"
            }
         ],
         "source": [
            "val_size = int(0.2 * len(sign_dataset))\n",
            "train_size = len(sign_dataset) - val_size\n",
            "\n",
            "generator = torch.Generator().manual_seed(42) \n",
            "train_dataset, val_dataset = random_split(sign_dataset, [train_size, val_size], generator=generator)\n",
            "\n",
            "train_loader = DataLoader(train_dataset, batch_size=64, shuffle=True)\n",
            "val_loader = DataLoader(val_dataset, batch_size=64, shuffle=False)\n",
            "\n",
            "sign_dataset.show_sample(2320)"
         ]
      },
      {
         "cell_type": "code",
         "execution_count": null,
         "id": "8edceee7",
         "metadata": {},
         "outputs": [
            {
               "data": {
                  "image/png": "[encoded data removed]",
                  "text/plain": [
                     "<Figure size 800x500 with 1 Axes>"
                  ]
               },
               "metadata": {},
               "output_type": "display_data"
            }
         ],
         "source": [
            "import pandas as pd\n",
            "\n",
            "labels_df = pd.read_csv(os.path.join(DATASET_PATH, \"images_manipulated/labels_manipulated.csv\")) \n",
            "labels_df.columns = [\"labels\", \"image_names\"] # assumes one column called 'labels'\n",
            "labels = sorted(labels_df[\"labels\"].unique().tolist())\n",
            "\n",
            "counts = [(labels_df[\"labels\"] == label).sum() for label in labels]\n",
            "\n",
            "plt.figure(figsize=(8, 5))\n",
            "plt.bar(labels, counts, color='skyblue')\n",
            "\n",
            "plt.xlabel(\"Labels\")\n",
            "plt.ylabel(\"Count\")\n",
            "plt.title(\"Label Distribution\")\n",
            "plt.grid(axis='y', linestyle='--', alpha=0.7)\n",
            "\n",
            "for i, count in enumerate(counts):\n",
            "    plt.text(i, count + 1, str(count), ha='center', va='bottom')\n",
            "\n",
            "plt.tight_layout()\n",
            "plt.show()"
         ]
      },
      {
         "cell_type": "markdown",
         "id": "06c20415",
         "metadata": {},
         "source": [
            "# Training"
         ]
      },
      {
         "cell_type": "markdown",
         "id": "87075d88",
         "metadata": {},
         "source": [
            "### Autoencoder definition"
         ]
      },
      {
         "cell_type": "code",
         "execution_count": null,
         "id": "bacf4050",
         "metadata": {},
         "outputs": [],
         "source": [
            "import torch\n",
            "import torch.nn as nn\n",
            "import torch.nn.functional as F\n",
            "import numpy as np\n",
            "\n",
            "class ConvAutoencoder(nn.Module):\n",
            "    def __init__(self, in_channels=1):\n",
            "        super(ConvAutoencoder, self).__init__()\n",
            "        self.encoder = nn.Sequential(\n",
            "            nn.Conv2d(in_channels, 16, kernel_size=3, padding=1),  # -> (16, 128, 128)\n",
            "            nn.ReLU(),\n",
            "            nn.MaxPool2d(2, 2),                                     # -> (16, 64, 64)\n",
            "            \n",
            "            nn.Conv2d(16, 32, kernel_size=3, padding=1),            # -> (32, 64, 64)\n",
            "            nn.ReLU(),\n",
            "            nn.MaxPool2d(2, 2),                                     # -> (32, 32, 32)\n",
            "            \n",
            "            nn.Conv2d(32, 64, kernel_size=3, padding=1),            # -> (64, 32, 32)\n",
            "            nn.ReLU(),\n",
            "            nn.MaxPool2d(2, 2)                                      # -> (64, 16, 16)\n",
            "        )\n",
            "        \n",
            "        self.flatten = nn.Flatten()\n",
            "        self.bottleneck = nn.Linear(64 * 16 * 16, 256)\n",
            "\n",
            "        self.decoder_input = nn.Linear(256, 64 * 16 * 16)\n",
            "        self.decoder = nn.Sequential(\n",
            "            nn.Unflatten(1, (64, 16, 16)),\n",
            "            \n",
            "            nn.ConvTranspose2d(64, 32, kernel_size=2, stride=2),    # -> (32, 32, 32)\n",
            "            nn.ReLU(),\n",
            "            \n",
            "            nn.ConvTranspose2d(32, 16, kernel_size=2, stride=2),    # -> (16, 64, 64)\n",
            "            nn.ReLU(),\n",
            "            \n",
            "            nn.ConvTranspose2d(16, in_channels, kernel_size=2, stride=2),  # -> (1, 128, 128)\n",
            "            nn.Sigmoid()\n",
            "        )\n",
            "\n",
            "    def forward(self, x):\n",
            "        x = self.encoder(x)\n",
            "        x = self.flatten(x)\n",
            "        latent = self.bottleneck(x)\n",
            "        x = self.decoder_input(latent)\n",
            "        x = self.decoder(x)\n",
            "        return x\n",
            "\n",
            "    def encode(self, x):\n",
            "        x = self.encoder(x)\n",
            "        x = self.flatten(x)\n",
            "        return self.bottleneck(x)"
         ]
      },
      {
         "cell_type": "markdown",
         "id": "64913947",
         "metadata": {},
         "source": [
            "### Classifier Definition"
         ]
      },
      {
         "cell_type": "code",
         "execution_count": 30,
         "id": "116b77bc",
         "metadata": {},
         "outputs": [],
         "source": [
            "class SignClassifier(nn.Module):\n",
            "    def __init__(self, autoencoder, latent_dim=256, num_classes=36):\n",
            "        super(SignClassifier, self).__init__()\n",
            "        self.autoencoder = autoencoder\n",
            "        self.classifier = nn.Sequential(\n",
            "            nn.Linear(latent_dim, 512),\n",
            "            nn.ReLU(),\n",
            "            nn.Dropout(0.3),\n",
            "            nn.Linear(512, num_classes)\n",
            "        )\n",
            "\n",
            "    def forward(self, x):\n",
            "        with torch.no_grad():\n",
            "            x = self.autoencoder.encode(x)\n",
            "        return self.classifier(x)"
         ]
      },
      {
         "cell_type": "markdown",
         "id": "8cbf99ae",
         "metadata": {},
         "source": [
            "### Hyperparams"
         ]
      },
      {
         "cell_type": "code",
         "execution_count": 14,
         "id": "00646f66",
         "metadata": {},
         "outputs": [],
         "source": [
            "NUM_EPOCHS_AE = 10\n",
            "NUM_EPOCHS_C = 50"
         ]
      },
      {
         "cell_type": "markdown",
         "id": "a7d38096",
         "metadata": {},
         "source": [
            "### Training\n",
            "includes:\n",
            "- training function\n",
            "- autoencoder training"
         ]
      },
      {
         "cell_type": "code",
         "execution_count": null,
         "id": "aafb8c11",
         "metadata": {},
         "outputs": [],
         "source": [
            "from torchvision.transforms.functional import to_pil_image\n",
            "\n",
            "def compare_images(img1, img2, show=True, title=\"Original vs Reconstructed\"):\n",
            "    \"\"\"\n",
            "    Compare two images: visual side-by-side + print MSE.\n",
            "\n",
            "    img1, img2: PyTorch tensors, shape (C, H, W) or (1, H, W)\n",
            "    \"\"\"\n",
            "    img1 = img1.detach().cpu()\n",
            "    img2 = img2.detach().cpu()\n",
            "\n",
            "    mse = torch.mean((img1 - img2) ** 2).item()\n",
            "\n",
            "    if show:\n",
            "        fig, axs = plt.subplots(1, 2, figsize=(6, 3))\n",
            "        axs[0].imshow(to_pil_image(img1))\n",
            "        axs[0].set_title(\"Original\")\n",
            "        axs[1].imshow(to_pil_image(img2))\n",
            "        axs[1].set_title(\"Reconstructed\")\n",
            "        for ax in axs:\n",
            "            ax.axis('off')\n",
            "        plt.suptitle(f\"{title}\\nMSE: {mse:.4f}\")\n",
            "        plt.tight_layout()\n",
            "        plt.show()\n",
            "\n",
            "    return mse"
         ]
      },
      {
         "cell_type": "code",
         "execution_count": 18,
         "id": "d9c81d1a",
         "metadata": {},
         "outputs": [
            {
               "name": "stdout",
               "output_type": "stream",
               "text": [
                  "Epoch 1 | Train Loss: 0.0282\n",
                  "Epoch 2 | Train Loss: 0.0090\n",
                  "Epoch 3 | Train Loss: 0.0063\n",
                  "Epoch 4 | Train Loss: 0.0050\n",
                  "Epoch 5 | Train Loss: 0.0042\n",
                  "Epoch 6 | Train Loss: 0.0037\n",
                  "Epoch 7 | Train Loss: 0.0033\n",
                  "Epoch 8 | Train Loss: 0.0031\n",
                  "Epoch 9 | Train Loss: 0.0028\n",
                  "Epoch 10 | Train Loss: 0.0027\n"
               ]
            }
         ],
         "source": [
            "autoencoder = ConvAutoencoder()\n",
            "autoencoder = autoencoder.to(device)\n",
            "\n",
            "criterion = nn.MSELoss()\n",
            "optimizer = torch.optim.Adam(autoencoder.parameters(), lr=0.001)\n",
            "\n",
            "for epoch in range(NUM_EPOCHS_AE):\n",
            "    autoencoder.train()\n",
            "    running_loss = 0.0\n",
            "    for batch in train_loader:\n",
            "        images = batch['image'].to(device)\n",
            "\n",
            "        outputs = autoencoder(images)\n",
            "        loss = criterion(outputs, images)\n",
            "\n",
            "        optimizer.zero_grad()\n",
            "        loss.backward()\n",
            "        optimizer.step()\n",
            "\n",
            "        running_loss += loss.item() * images.size(0)\n",
            "\n",
            "    epoch_loss = running_loss / len(train_loader.dataset)\n",
            "    print(f\"Epoch {epoch+1} | Train Loss: {epoch_loss:.4f}\")\n"
         ]
      },
      {
         "cell_type": "markdown",
         "id": "69df5441",
         "metadata": {},
         "source": [
            "#### Levy Flight\n",
            "\n",
            "This was not used in the end, because it did not bring any benefit and slowed training."
         ]
      },
      {
         "cell_type": "code",
         "execution_count": null,
         "id": "6553f19e",
         "metadata": {},
         "outputs": [],
         "source": [
            "import math\n",
            "\n",
            "def levy_flight(shape, beta=1.5):\n",
            "    sigma_u = (math.gamma(1 + beta) * math.sin(math.pi * beta / 2) /\n",
            "               (math.gamma((1 + beta) / 2) * beta * 2 ** ((beta - 1) / 2))) ** (1 / beta)\n",
            "    u = torch.randn(shape) * sigma_u\n",
            "    v = torch.randn(shape)\n",
            "    step = u / torch.abs(v) ** (1 / beta)\n",
            "    return step\n",
            "\n",
            "def apply_levy_perturbation(model, scale=0.01, beta=1.5):\n",
            "    with torch.no_grad():\n",
            "        for param in model.parameters():\n",
            "            noise = levy_flight(param.shape, beta=beta).to(param.device)\n",
            "            param.add_(scale * noise)\n",
            "\n",
            "classifier = SignClassifier(autoencoder).to(device)\n",
            "optimizer = torch.optim.Adam(classifier.parameters(), lr=1e-3)\n",
            "criterion = nn.CrossEntropyLoss()\n",
            "\n",
            "loss_score = 2\n",
            "\n",
            "for epoch in range(NUM_EPOCHS_C):\n",
            "    classifier.train()\n",
            "    epoch_loss = 0\n",
            "    batch_count = 0\n",
            "\n",
            "    for batch in train_loader:\n",
            "        images = batch[\"image\"].to(device)\n",
            "        labels = batch[\"label\"].to(device)\n",
            "\n",
            "        outputs = classifier(images)\n",
            "        loss = criterion(outputs, labels)\n",
            "\n",
            "        optimizer.zero_grad()\n",
            "        loss.backward()\n",
            "        optimizer.step()\n",
            "\n",
            "        epoch_loss += loss.item()\n",
            "        batch_count += 1\n",
            "\n",
            "    loss_score = epoch_loss / batch_count\n",
            "\n",
            "    if epoch % 5 == 0:\n",
            "        apply_levy_perturbation(classifier.classifier, scale=0.01)\n",
            "\n",
            "    print(f\"Epoch {epoch + 1} | Classifier Loss: {loss_score:.4f}\")"
         ]
      },
      {
         "cell_type": "code",
         "execution_count": 31,
         "id": "081e2810",
         "metadata": {},
         "outputs": [
            {
               "name": "stdout",
               "output_type": "stream",
               "text": [
                  "Epoch 1 | Classifier Loss: 2.5236\n",
                  "Epoch 2 | Classifier Loss: 1.8673\n",
                  "Epoch 3 | Classifier Loss: 1.5543\n",
                  "Epoch 4 | Classifier Loss: 1.3698\n",
                  "Epoch 5 | Classifier Loss: 1.2387\n",
                  "Epoch 6 | Classifier Loss: 1.1629\n",
                  "Epoch 7 | Classifier Loss: 1.1173\n",
                  "Epoch 8 | Classifier Loss: 1.0469\n",
                  "Epoch 9 | Classifier Loss: 1.0099\n",
                  "Epoch 10 | Classifier Loss: 0.9772\n",
                  "Epoch 11 | Classifier Loss: 0.9349\n",
                  "Epoch 12 | Classifier Loss: 0.9288\n",
                  "Epoch 13 | Classifier Loss: 0.9195\n",
                  "Epoch 14 | Classifier Loss: 0.8885\n",
                  "Epoch 15 | Classifier Loss: 0.8840\n",
                  "Epoch 16 | Classifier Loss: 0.8650\n",
                  "Epoch 17 | Classifier Loss: 0.8380\n",
                  "Epoch 18 | Classifier Loss: 0.8234\n",
                  "Epoch 19 | Classifier Loss: 0.8333\n",
                  "Epoch 20 | Classifier Loss: 0.8098\n",
                  "Epoch 21 | Classifier Loss: 0.7937\n",
                  "Epoch 22 | Classifier Loss: 0.7708\n",
                  "Epoch 23 | Classifier Loss: 0.7977\n",
                  "Epoch 24 | Classifier Loss: 0.7806\n",
                  "Epoch 25 | Classifier Loss: 0.7674\n",
                  "Epoch 26 | Classifier Loss: 0.7740\n",
                  "Epoch 27 | Classifier Loss: 0.7643\n",
                  "Epoch 28 | Classifier Loss: 0.7779\n",
                  "Epoch 29 | Classifier Loss: 0.7529\n",
                  "Epoch 30 | Classifier Loss: 0.7453\n",
                  "Epoch 31 | Classifier Loss: 0.7592\n",
                  "Epoch 32 | Classifier Loss: 0.7317\n",
                  "Epoch 33 | Classifier Loss: 0.7352\n",
                  "Epoch 34 | Classifier Loss: 0.7162\n",
                  "Epoch 35 | Classifier Loss: 0.7310\n",
                  "Epoch 36 | Classifier Loss: 0.7244\n",
                  "Epoch 37 | Classifier Loss: 0.7252\n",
                  "Epoch 38 | Classifier Loss: 0.7028\n",
                  "Epoch 39 | Classifier Loss: 0.7020\n",
                  "Epoch 40 | Classifier Loss: 0.7200\n",
                  "Epoch 41 | Classifier Loss: 0.6900\n",
                  "Epoch 42 | Classifier Loss: 0.7012\n",
                  "Epoch 43 | Classifier Loss: 0.6993\n",
                  "Epoch 44 | Classifier Loss: 0.6923\n",
                  "Epoch 45 | Classifier Loss: 0.6954\n",
                  "Epoch 46 | Classifier Loss: 0.6933\n",
                  "Epoch 47 | Classifier Loss: 0.6961\n",
                  "Epoch 48 | Classifier Loss: 0.6839\n",
                  "Epoch 49 | Classifier Loss: 0.6842\n",
                  "Epoch 50 | Classifier Loss: 0.6831\n"
               ]
            }
         ],
         "source": [
            "autoencoder.requires_grad_(True)\n",
            "\n",
            "classifier = SignClassifier(autoencoder).to(device)\n",
            "optimizer = torch.optim.Adam(classifier.parameters(), lr=1e-3)\n",
            "criterion = nn.CrossEntropyLoss()\n",
            "\n",
            "loss_score = 2\n",
            "\n",
            "for epoch in range(NUM_EPOCHS_C):\n",
            "    classifier.train()\n",
            "    epoch_loss = 0\n",
            "    batch_count = 0\n",
            "\n",
            "    for batch in train_loader:\n",
            "        images = batch[\"image\"].to(device)\n",
            "        labels = batch[\"label\"].to(device)\n",
            "\n",
            "        outputs = classifier(images)\n",
            "        loss = criterion(outputs, labels)\n",
            "\n",
            "        optimizer.zero_grad()\n",
            "        loss.backward()\n",
            "        optimizer.step()\n",
            "\n",
            "        epoch_loss += loss.item()\n",
            "        batch_count += 1\n",
            "\n",
            "    loss_score = epoch_loss / batch_count\n",
            "\n",
            "    print(f\"Epoch {epoch + 1} | Classifier Loss: {loss_score:.4f}\")\n"
         ]
      },
      {
         "cell_type": "code",
         "execution_count": 32,
         "id": "64a601f1",
         "metadata": {},
         "outputs": [
            {
               "name": "stdout",
               "output_type": "stream",
               "text": [
                  "Validation Accuracy: 82.41%\n"
               ]
            }
         ],
         "source": [
            "def evaluate_accuracy(model, dataloader, device):\n",
            "    model.eval()\n",
            "    correct = 0\n",
            "    total = 0\n",
            "\n",
            "    with torch.no_grad():\n",
            "        for batch in dataloader:\n",
            "            images = batch['image'].to(device)\n",
            "            labels = batch['label'].to(device)\n",
            "            outputs = model(images)\n",
            "            predictions = torch.argmax(outputs, dim=1)\n",
            "            correct += (predictions == labels).sum().item()\n",
            "            total += labels.size(0)\n",
            "\n",
            "    return correct / total\n",
            "\n",
            "val_acc = evaluate_accuracy(classifier, val_loader, device)\n",
            "print(f\"Validation Accuracy: {val_acc:.2%}\")"
         ]
      },
      {
         "cell_type": "code",
         "execution_count": null,
         "id": "76dbb6f1",
         "metadata": {},
         "outputs": [
            {
               "name": "stdout",
               "output_type": "stream",
               "text": [
                  "Training Accuracy: 84.90%\n"
               ]
            }
         ],
         "source": [
            "torch.save(classifier.state_dict(), \"sign_lang_model_autoencoder.pt\")\n",
            "\n",
            "val_acc = evaluate_accuracy(classifier, val_loader, device)\n",
            "print(f\"Training Accuracy: {val_acc:.2%}\")"
         ]
      },
      {
         "cell_type": "code",
         "execution_count": 34,
         "id": "28d4cb2c",
         "metadata": {},
         "outputs": [
            {
               "data": {
                  "image/png": "[encoded data removed]",
                  "text/plain": [
                     "<Figure size 1400x500 with 1 Axes>"
                  ]
               },
               "metadata": {},
               "output_type": "display_data"
            }
         ],
         "source": [
            "def plot_per_class_accuracy(model, dataloader, device, num_classes=36, class_names=None):\n",
            "    \"\"\"\n",
            "    Evaluates and plots per-class accuracy for a classification model.\n",
            "\n",
            "    Args:\n",
            "        model: Trained PyTorch model.\n",
            "        dataloader: DataLoader for validation/test set.\n",
            "        device: 'cuda' or 'cpu'.\n",
            "        num_classes: Total number of classes.\n",
            "        class_names: Optional list of class labels. If None, uses ['0'-'9'] + ['a'-'z'].\n",
            "        show_worst_n: Number of lowest-performing classes to print.\n",
            "    \"\"\"\n",
            "    if class_names is None:\n",
            "        class_names = list(map(str, range(10))) + list(ascii_lowercase)\n",
            "\n",
            "    model.eval()\n",
            "    class_correct = [0] * num_classes\n",
            "    class_total = [0] * num_classes\n",
            "\n",
            "    with torch.no_grad():\n",
            "        for batch in dataloader:\n",
            "            images = batch['image'].to(device)\n",
            "            labels = batch['label'].to(device)\n",
            "            outputs = model(images)\n",
            "            preds = torch.argmax(outputs, dim=1)\n",
            "\n",
            "            for label, pred in zip(labels, preds):\n",
            "                class_total[label] += 1\n",
            "                if label == pred:\n",
            "                    class_correct[label] += 1\n",
            "\n",
            "    per_class_accuracy = [correct / total if total != 0 else 0.0\n",
            "                          for correct, total in zip(class_correct, class_total)]\n",
            "\n",
            "    plt.figure(figsize=(14, 5))\n",
            "    plt.bar(class_names, per_class_accuracy)\n",
            "    plt.xlabel(\"Class\")\n",
            "    plt.ylabel(\"Accuracy\")\n",
            "    plt.title(\"Per-Class Accuracy\")\n",
            "    plt.ylim(0, 1.0)\n",
            "    plt.grid(axis='y')\n",
            "    plt.show()\n",
            "\n",
            "plot_per_class_accuracy(classifier, val_loader, device, 36, sign_dataset.class_names)"
         ]
      },
      {
         "cell_type": "markdown",
         "id": "1d9ec082",
         "metadata": {
            "deletable": false,
            "editable": false,
            "nbgrader": {
               "cell_type": "markdown",
               "checksum": "f03a81c186cc5531728e6c012d0efd57",
               "grade": false,
               "grade_id": "cell-a177a28ccf1ee8bb",
               "locked": true,
               "schema_version": 3,
               "solution": false,
               "task": false
            }
         },
         "source": [
            "## Prediction Stub\n",
            "\n",
            "You will need to provide a function that can be used to make predictions using your final trained model. \n",
            "\n",
            "**IMPORTANT**\n",
            "\n",
            "1. The name of your prediction function must be `leader_board_predict_fn`\n",
            "2. Your prediction function should be able take as input a 4-D numpy array of shape [batch_size,1,128,128] and produce predictions in the form of a 1-D numpy array of shape [batch_size,]. \n",
            "3. Predictions for each image should be an integer in the range 0-35, that is `0` for the digit $0$, `1` for the digit $1$, .... , `9` for the digit $9$, `10` for the letter $a$, `11` for the letter $b$, ..., `35` for the letter $z$.\n",
            "4. Your prediction function should internally load your trained model and take care of any data transformations that you need.\n",
            "\n",
            "Below we provide an implementation of the `leader_board_predict_fn` function, in which we show how a trained model can be loaded (from the weights saved on the disk) for making predictions. This example is for PyTorch, but you are free to use any framework of your choice for your model. The only requirement is that this function should accept a numpy array (with the proper shape) as the input and should produce a numpy array (with the proper shape) as the output. What you do internally is up to you.\n",
            "\n",
            "Note that the model that we load here is not properly trained and so its performance is very bad. This example is only for showing you how a model can be loaded in PyTorch and how predictions can be made."
         ]
      },
      {
         "cell_type": "code",
         "execution_count": null,
         "id": "f2f8f100",
         "metadata": {
            "deletable": false,
            "nbgrader": {
               "cell_type": "code",
               "checksum": "23c72c17b1ca862857647d412ae648ff",
               "grade": false,
               "grade_id": "cell-81520c1b1e481ca2",
               "locked": false,
               "schema_version": 3,
               "solution": true,
               "task": false
            },
            "tags": []
         },
         "outputs": [],
         "source": [
            "def leader_board_predict_fn(input_batch):\n",
            "    \"\"\"\n",
            "    Function for making predictions using your trained model.\n",
            "    \n",
            "    Args:\n",
            "        input_batch (numpy array): Input images (4D array of shape \n",
            "                                   [batch_size, 1, 128, 128])\n",
            "        \n",
            "    Returns:\n",
            "        output (numpy array): Predictions of the your trained model \n",
            "                             (1D array of int (0-35) of shape [batch_size, ])\n",
            "    \"\"\"\n",
            "    prediction = None\n",
            "    \n",
            "    batch_size, channels, height, width = input_batch.shape\n",
            "    \n",
            "       \n",
            "    ### BEGIN EXAMPLE \n",
            "    \n",
            "    # Load the network definition\n",
            "    from dummy_network import DummyNetwork\n",
            "    \n",
            "    # Instantiate the network and set the data type\n",
            "    dummy_network = DummyNetwork().float()\n",
            "    \n",
            "    # Load the saved weights from the disk\n",
            "    dummy_network.load_state_dict(torch.load(\"dummy_weights.pt\"))\n",
            "    \n",
            "    # Set the network to evaluation mode\n",
            "    dummy_network.eval()\n",
            "    \n",
            "    # VERY IMPORTANT\n",
            "    # Convert the input batch to a torch Tensor and set\n",
            "    # the data type to the same type as the network\n",
            "    input_batch = torch.from_numpy(input_batch).float()\n",
            "       \n",
            "    # A forward pass with the input batch produces a batch of logits\n",
            "    # In the network that we use here, Softmax is not applied to the output\n",
            "    # This may be different for your network.\n",
            "    logits = dummy_network(input_batch)\n",
            "    \n",
            "    # Final classification predictions are taken by taking an argmax over the logits\n",
            "    # The prediction is converted to a numpy array\n",
            "    prediction = torch.argmax(logits, dim=1).numpy()\n",
            "\n",
            "    ### END EXAMPLE \n",
            "\n",
            "    # Replace the entire section between ### BEGIN EXAMPLE and ### END EXAMPLE \n",
            "    # with your implementation\n",
            "    \n",
            "    # YOUR CODE HERE (please remove 'raise NotImplementedError()')\n",
            "    raise NotImplementedError()\n",
            "    \n",
            "    assert prediction is not None, \"Prediction cannot be None\"\n",
            "    assert isinstance(prediction, np.ndarray), \"Prediction must be a numpy array\"\n",
            "\n",
            "    return prediction"
         ]
      },
      {
         "cell_type": "markdown",
         "id": "43f6fd33",
         "metadata": {
            "deletable": false,
            "editable": false,
            "nbgrader": {
               "cell_type": "markdown",
               "checksum": "2820681a6fc16112534b10dfbeb2347b",
               "grade": false,
               "grade_id": "cell-4ac44e8d4bbf43c0",
               "locked": true,
               "schema_version": 3,
               "solution": false,
               "task": false
            }
         },
         "source": [
            "## Evaluation\n",
            "\n",
            "Your final model will be evaluated on a hidden test set containing images similar to the dataset that you are provided with.\n",
            "\n",
            "For evaluating the performance of your model, we will use the normalized [accuracy_score](https://scikit-learn.org/stable/modules/generated/sklearn.metrics.accuracy_score.html#sklearn.metrics.accuracy_score) metric from sklearn. This is simply the percentage of correct predictions that your model makes for all the images of the hidden test set. Hence, if all the predictions are correct, the score is 1.0 and if all predictions are incorrect, the score is 0.0. We will use the sklearn metric so that the accuracy function is agnostic to the machine learning framework you use."
         ]
      },
      {
         "cell_type": "code",
         "execution_count": 46,
         "id": "b5106fc5",
         "metadata": {
            "deletable": false,
            "editable": false,
            "nbgrader": {
               "cell_type": "code",
               "checksum": "663b19833a6fe579d5d735111918221b",
               "grade": false,
               "grade_id": "cell-f6e73b401749aa78",
               "locked": true,
               "schema_version": 3,
               "solution": false,
               "task": false
            }
         },
         "outputs": [],
         "source": [
            "from sklearn.metrics import accuracy_score\n",
            "  \n",
            "def accuracy(dataset_path, max_batches=30):\n",
            "    \"\"\"\n",
            "    Calculates the average prediction accuracy.\n",
            "    \n",
            "    IMPORTANT\n",
            "    =========\n",
            "    In this function, we use PyTorch only for loading the data. When your `leader_board_predict_fn`\n",
            "    function is called, we pass the arguments to it as numpy arrays. The output of `leader_board_predict_fn`\n",
            "    is also expected to be a numpy array. So, as long as your `leader_board_predict_fn` function takes\n",
            "    numpy arrays as input and produces numpy arrays as output (with the proper shapes), it does not\n",
            "    matter what framework you used for training your network or for producing your predictions.\n",
            "    \n",
            "    Args:\n",
            "        dataset_path (str): Path of the dataset directory\n",
            "        \n",
            "    Returns:\n",
            "        accuracy (float): Average accuracy score over all images (float in the range 0.0-1.0)\n",
            "    \"\"\"\n",
            "\n",
            "    # Create a Dataset object\n",
            "    sign_lang_dataset = SignLangDataset(csv_file=\"labels.csv\", root_dir=dataset_path)\n",
            "\n",
            "    # Create a Dataloader\n",
            "    sign_lang_dataloader = DataLoader(sign_lang_dataset, \n",
            "                                      batch_size=64,\n",
            "                                      shuffle=True, \n",
            "                                      drop_last=True,\n",
            "                                      num_workers=0)\n",
            "    \n",
            "    # Calculate accuracy for each batch\n",
            "    accuracies = list()\n",
            "    for batch_idx, sample in enumerate(sign_lang_dataloader):\n",
            "        x = sample[\"image\"].numpy()\n",
            "        y = sample[\"label\"].numpy()\n",
            "        prediction = leader_board_predict_fn(x)\n",
            "        accuracies.append(accuracy_score(y, prediction, normalize=True))\n",
            "        \n",
            "        # We will consider only the first 30 batches\n",
            "        if batch_idx == (max_batches - 1):\n",
            "            break\n",
            "\n",
            "    assert len(accuracies) == max_batches\n",
            "    \n",
            "    # Return the average accuracy\n",
            "    mean_accuracy = np.mean(accuracies)\n",
            "    return mean_accuracy"
         ]
      },
      {
         "cell_type": "markdown",
         "id": "6e0e4307",
         "metadata": {
            "deletable": false,
            "editable": false,
            "nbgrader": {
               "cell_type": "markdown",
               "checksum": "fb526476f67d9f610c05c7b1b41e31eb",
               "grade": false,
               "grade_id": "cell-62e9662dcba00ffe",
               "locked": true,
               "schema_version": 3,
               "solution": false,
               "task": false
            }
         },
         "source": [
            "We will now use your `leader_board_predict_fn` function for calculating the accuracy of your model. We provide the code for testing your loaded model on the visible training data. We will also evaluate your model's performance on the test dataset (the test dataset should only be used for evaluation and is **NOT** to be used for training your model)."
         ]
      },
      {
         "cell_type": "code",
         "execution_count": 47,
         "id": "4eebe07a",
         "metadata": {
            "deletable": false,
            "editable": false,
            "nbgrader": {
               "cell_type": "code",
               "checksum": "49bb0771e72597a654efa8ac01ddc729",
               "grade": true,
               "grade_id": "cell-c8f5ac9b0f137931",
               "locked": true,
               "points": 1,
               "schema_version": 3,
               "solution": false,
               "task": false
            }
         },
         "outputs": [
            {
               "ename": "FileNotFoundError",
               "evalue": "[Errno 2] No such file or directory: './data/MOVPYKZYBLTPZRGU.jpg'",
               "output_type": "error",
               "traceback": [
                  "\u001b[31m---------------------------------------------------------------------------\u001b[39m",
                  "\u001b[31mFileNotFoundError\u001b[39m                         Traceback (most recent call last)",
                  "\u001b[36mCell\u001b[39m\u001b[36m \u001b[39m\u001b[32mIn[47]\u001b[39m\u001b[32m, line 89\u001b[39m\n\u001b[32m     85\u001b[39m     pd.DataFrame([score_dict]).to_csv(\u001b[33m\"\u001b[39m\u001b[33msign_lang.csv\u001b[39m\u001b[33m\"\u001b[39m, index=\u001b[38;5;28;01mFalse\u001b[39;00m)\n\u001b[32m     87\u001b[39m     \u001b[38;5;66;03m### LEADER BOARD TEST\u001b[39;00m\n\u001b[32m---> \u001b[39m\u001b[32m89\u001b[39m \u001b[43mget_score\u001b[49m\u001b[43m(\u001b[49m\u001b[43m)\u001b[49m\n",
                  "\u001b[36mCell\u001b[39m\u001b[36m \u001b[39m\u001b[32mIn[47]\u001b[39m\u001b[32m, line 24\u001b[39m, in \u001b[36mget_score\u001b[39m\u001b[34m()\u001b[39m\n\u001b[32m     19\u001b[39m np.random.seed(seed)\n\u001b[32m     21\u001b[39m \u001b[38;5;66;03m# Calculate the accuracy on the training dataset\u001b[39;00m\n\u001b[32m     22\u001b[39m \u001b[38;5;66;03m# to check that your `leader_board_predict_fn` function \u001b[39;00m\n\u001b[32m     23\u001b[39m \u001b[38;5;66;03m# works without any error\u001b[39;00m\n\u001b[32m---> \u001b[39m\u001b[32m24\u001b[39m dataset_score = \u001b[43maccuracy\u001b[49m\u001b[43m(\u001b[49m\u001b[43mdataset_path\u001b[49m\u001b[43m=\u001b[49m\u001b[43mDATASET_PATH\u001b[49m\u001b[43m)\u001b[49m\n\u001b[32m     26\u001b[39m \u001b[38;5;28;01massert\u001b[39;00m \u001b[38;5;28misinstance\u001b[39m(dataset_score, \u001b[38;5;28mfloat\u001b[39m), \u001b[33mf\u001b[39m\u001b[33m\"\u001b[39m\u001b[33mtype of dataset_score is \u001b[39m\u001b[38;5;132;01m{\u001b[39;00m\u001b[38;5;28mtype\u001b[39m(dataset_score)\u001b[38;5;132;01m}\u001b[39;00m\u001b[33m, but it must be float\u001b[39m\u001b[33m\"\u001b[39m\n\u001b[32m     27\u001b[39m \u001b[38;5;28;01massert\u001b[39;00m \u001b[32m0.0\u001b[39m<=dataset_score<=\u001b[32m1.0\u001b[39m, \u001b[33mf\u001b[39m\u001b[33m\"\u001b[39m\u001b[33mValue of dataset_score is \u001b[39m\u001b[38;5;132;01m{\u001b[39;00mdataset_score\u001b[38;5;132;01m}\u001b[39;00m\u001b[33m, but it must be between 0.0 and 1.0\u001b[39m\u001b[33m\"\u001b[39m\n",
                  "\u001b[36mCell\u001b[39m\u001b[36m \u001b[39m\u001b[32mIn[46]\u001b[39m\u001b[32m, line 34\u001b[39m, in \u001b[36maccuracy\u001b[39m\u001b[34m(dataset_path, max_batches)\u001b[39m\n\u001b[32m     32\u001b[39m \u001b[38;5;66;03m# Calculate accuracy for each batch\u001b[39;00m\n\u001b[32m     33\u001b[39m accuracies = \u001b[38;5;28mlist\u001b[39m()\n\u001b[32m---> \u001b[39m\u001b[32m34\u001b[39m \u001b[43m\u001b[49m\u001b[38;5;28;43;01mfor\u001b[39;49;00m\u001b[43m \u001b[49m\u001b[43mbatch_idx\u001b[49m\u001b[43m,\u001b[49m\u001b[43m \u001b[49m\u001b[43msample\u001b[49m\u001b[43m \u001b[49m\u001b[38;5;129;43;01min\u001b[39;49;00m\u001b[43m \u001b[49m\u001b[38;5;28;43menumerate\u001b[39;49m\u001b[43m(\u001b[49m\u001b[43msign_lang_dataloader\u001b[49m\u001b[43m)\u001b[49m\u001b[43m:\u001b[49m\n\u001b[32m     35\u001b[39m \u001b[43m    \u001b[49m\u001b[43mx\u001b[49m\u001b[43m \u001b[49m\u001b[43m=\u001b[49m\u001b[43m \u001b[49m\u001b[43msample\u001b[49m\u001b[43m[\u001b[49m\u001b[33;43m\"\u001b[39;49m\u001b[33;43mimage\u001b[39;49m\u001b[33;43m\"\u001b[39;49m\u001b[43m]\u001b[49m\u001b[43m.\u001b[49m\u001b[43mnumpy\u001b[49m\u001b[43m(\u001b[49m\u001b[43m)\u001b[49m\n\u001b[32m     36\u001b[39m \u001b[43m    \u001b[49m\u001b[43my\u001b[49m\u001b[43m \u001b[49m\u001b[43m=\u001b[49m\u001b[43m \u001b[49m\u001b[43msample\u001b[49m\u001b[43m[\u001b[49m\u001b[33;43m\"\u001b[39;49m\u001b[33;43mlabel\u001b[39;49m\u001b[33;43m\"\u001b[39;49m\u001b[43m]\u001b[49m\u001b[43m.\u001b[49m\u001b[43mnumpy\u001b[49m\u001b[43m(\u001b[49m\u001b[43m)\u001b[49m\n",
                  "\u001b[36mFile \u001b[39m\u001b[32m~/Schreibtisch/Uni/sem4/Maschinelles Lernen/sign_language/.venv/lib64/python3.13/site-packages/torch/utils/data/dataloader.py:733\u001b[39m, in \u001b[36m_BaseDataLoaderIter.__next__\u001b[39m\u001b[34m(self)\u001b[39m\n\u001b[32m    730\u001b[39m \u001b[38;5;28;01mif\u001b[39;00m \u001b[38;5;28mself\u001b[39m._sampler_iter \u001b[38;5;129;01mis\u001b[39;00m \u001b[38;5;28;01mNone\u001b[39;00m:\n\u001b[32m    731\u001b[39m     \u001b[38;5;66;03m# TODO(https://github.com/pytorch/pytorch/issues/76750)\u001b[39;00m\n\u001b[32m    732\u001b[39m     \u001b[38;5;28mself\u001b[39m._reset()  \u001b[38;5;66;03m# type: ignore[call-arg]\u001b[39;00m\n\u001b[32m--> \u001b[39m\u001b[32m733\u001b[39m data = \u001b[38;5;28;43mself\u001b[39;49m\u001b[43m.\u001b[49m\u001b[43m_next_data\u001b[49m\u001b[43m(\u001b[49m\u001b[43m)\u001b[49m\n\u001b[32m    734\u001b[39m \u001b[38;5;28mself\u001b[39m._num_yielded += \u001b[32m1\u001b[39m\n\u001b[32m    735\u001b[39m \u001b[38;5;28;01mif\u001b[39;00m (\n\u001b[32m    736\u001b[39m     \u001b[38;5;28mself\u001b[39m._dataset_kind == _DatasetKind.Iterable\n\u001b[32m    737\u001b[39m     \u001b[38;5;129;01mand\u001b[39;00m \u001b[38;5;28mself\u001b[39m._IterableDataset_len_called \u001b[38;5;129;01mis\u001b[39;00m \u001b[38;5;129;01mnot\u001b[39;00m \u001b[38;5;28;01mNone\u001b[39;00m\n\u001b[32m    738\u001b[39m     \u001b[38;5;129;01mand\u001b[39;00m \u001b[38;5;28mself\u001b[39m._num_yielded > \u001b[38;5;28mself\u001b[39m._IterableDataset_len_called\n\u001b[32m    739\u001b[39m ):\n",
                  "\u001b[36mFile \u001b[39m\u001b[32m~/Schreibtisch/Uni/sem4/Maschinelles Lernen/sign_language/.venv/lib64/python3.13/site-packages/torch/utils/data/dataloader.py:789\u001b[39m, in \u001b[36m_SingleProcessDataLoaderIter._next_data\u001b[39m\u001b[34m(self)\u001b[39m\n\u001b[32m    787\u001b[39m \u001b[38;5;28;01mdef\u001b[39;00m\u001b[38;5;250m \u001b[39m\u001b[34m_next_data\u001b[39m(\u001b[38;5;28mself\u001b[39m):\n\u001b[32m    788\u001b[39m     index = \u001b[38;5;28mself\u001b[39m._next_index()  \u001b[38;5;66;03m# may raise StopIteration\u001b[39;00m\n\u001b[32m--> \u001b[39m\u001b[32m789\u001b[39m     data = \u001b[38;5;28;43mself\u001b[39;49m\u001b[43m.\u001b[49m\u001b[43m_dataset_fetcher\u001b[49m\u001b[43m.\u001b[49m\u001b[43mfetch\u001b[49m\u001b[43m(\u001b[49m\u001b[43mindex\u001b[49m\u001b[43m)\u001b[49m  \u001b[38;5;66;03m# may raise StopIteration\u001b[39;00m\n\u001b[32m    790\u001b[39m     \u001b[38;5;28;01mif\u001b[39;00m \u001b[38;5;28mself\u001b[39m._pin_memory:\n\u001b[32m    791\u001b[39m         data = _utils.pin_memory.pin_memory(data, \u001b[38;5;28mself\u001b[39m._pin_memory_device)\n",
                  "\u001b[36mFile \u001b[39m\u001b[32m~/Schreibtisch/Uni/sem4/Maschinelles Lernen/sign_language/.venv/lib64/python3.13/site-packages/torch/utils/data/_utils/fetch.py:52\u001b[39m, in \u001b[36m_MapDatasetFetcher.fetch\u001b[39m\u001b[34m(self, possibly_batched_index)\u001b[39m\n\u001b[32m     50\u001b[39m         data = \u001b[38;5;28mself\u001b[39m.dataset.__getitems__(possibly_batched_index)\n\u001b[32m     51\u001b[39m     \u001b[38;5;28;01melse\u001b[39;00m:\n\u001b[32m---> \u001b[39m\u001b[32m52\u001b[39m         data = [\u001b[38;5;28;43mself\u001b[39;49m\u001b[43m.\u001b[49m\u001b[43mdataset\u001b[49m\u001b[43m[\u001b[49m\u001b[43midx\u001b[49m\u001b[43m]\u001b[49m \u001b[38;5;28;01mfor\u001b[39;00m idx \u001b[38;5;129;01min\u001b[39;00m possibly_batched_index]\n\u001b[32m     53\u001b[39m \u001b[38;5;28;01melse\u001b[39;00m:\n\u001b[32m     54\u001b[39m     data = \u001b[38;5;28mself\u001b[39m.dataset[possibly_batched_index]\n",
                  "\u001b[36mCell\u001b[39m\u001b[36m \u001b[39m\u001b[32mIn[22]\u001b[39m\u001b[32m, line 42\u001b[39m, in \u001b[36mSignLangDataset.__getitem__\u001b[39m\u001b[34m(self, idx)\u001b[39m\n\u001b[32m     39\u001b[39m image_path = os.path.join(\u001b[38;5;28mself\u001b[39m.root_dir, \u001b[38;5;28mself\u001b[39m.data[idx][\u001b[32m1\u001b[39m])\n\u001b[32m     41\u001b[39m \u001b[38;5;66;03m# Read image as a grayscale PIL image\u001b[39;00m\n\u001b[32m---> \u001b[39m\u001b[32m42\u001b[39m image = \u001b[43mImage\u001b[49m\u001b[43m.\u001b[49m\u001b[43mopen\u001b[49m\u001b[43m(\u001b[49m\u001b[43mimage_path\u001b[49m\u001b[43m)\u001b[49m.convert(\u001b[33m\"\u001b[39m\u001b[33mL\u001b[39m\u001b[33m\"\u001b[39m)  \u001b[38;5;66;03m# 'L' = grayscale mode\u001b[39;00m\n\u001b[32m     44\u001b[39m \u001b[38;5;28;01mif\u001b[39;00m \u001b[38;5;28mself\u001b[39m.transform:\n\u001b[32m     45\u001b[39m     image = \u001b[38;5;28mself\u001b[39m.transform(image)\n",
                  "\u001b[36mFile \u001b[39m\u001b[32m~/Schreibtisch/Uni/sem4/Maschinelles Lernen/sign_language/.venv/lib64/python3.13/site-packages/PIL/Image.py:3505\u001b[39m, in \u001b[36mopen\u001b[39m\u001b[34m(fp, mode, formats)\u001b[39m\n\u001b[32m   3502\u001b[39m     filename = os.fspath(fp)\n\u001b[32m   3504\u001b[39m \u001b[38;5;28;01mif\u001b[39;00m filename:\n\u001b[32m-> \u001b[39m\u001b[32m3505\u001b[39m     fp = \u001b[43mbuiltins\u001b[49m\u001b[43m.\u001b[49m\u001b[43mopen\u001b[49m\u001b[43m(\u001b[49m\u001b[43mfilename\u001b[49m\u001b[43m,\u001b[49m\u001b[43m \u001b[49m\u001b[33;43m\"\u001b[39;49m\u001b[33;43mrb\u001b[39;49m\u001b[33;43m\"\u001b[39;49m\u001b[43m)\u001b[49m\n\u001b[32m   3506\u001b[39m     exclusive_fp = \u001b[38;5;28;01mTrue\u001b[39;00m\n\u001b[32m   3507\u001b[39m \u001b[38;5;28;01melse\u001b[39;00m:\n",
                  "\u001b[31mFileNotFoundError\u001b[39m: [Errno 2] No such file or directory: './data/MOVPYKZYBLTPZRGU.jpg'"
               ]
            }
         ],
         "source": [
            "def get_score():\n",
            "    \"\"\"\n",
            "    Function to compute scores for train and test datasets.\n",
            "    \"\"\"\n",
            "    import torch\n",
            "    import numpy as np\n",
            "    from sklearn.metrics import accuracy_score\n",
            "    import os\n",
            "    import pwd\n",
            "    import time\n",
            "    import pathlib\n",
            "    import pandas as pd\n",
            "    import datetime\n",
            "    \n",
            "    ### LEADER BOARD TEST\n",
            "    seed = 200\n",
            "\n",
            "    torch.manual_seed(seed)\n",
            "    np.random.seed(seed)\n",
            "\n",
            "    # Calculate the accuracy on the training dataset\n",
            "    # to check that your `leader_board_predict_fn` function \n",
            "    # works without any error\n",
            "    dataset_score = accuracy(dataset_path=DATASET_PATH)\n",
            "\n",
            "    assert isinstance(dataset_score, float), f\"type of dataset_score is {type(dataset_score)}, but it must be float\"\n",
            "    assert 0.0<=dataset_score<=1.0, f\"Value of dataset_score is {dataset_score}, but it must be between 0.0 and 1.0\"\n",
            "\n",
            "    # This is your accuracy score on the visible training dataset\n",
            "    # This is NOT used for the leaderboard.\n",
            "    print(f\"Accuracy score on training data: {dataset_score}\")\n",
            "\n",
            "    # There is a hidden test that will evaluate your trained model on the hidden test set\n",
            "    # This hidden dataset and the accuracy for this will not be visible to you when you\n",
            "    # validate this notebook. The accuracy score on the hidden dataset will be used\n",
            "    # for calculating your leaderboard score.\n",
            "\n",
            "    seed = 200\n",
            "\n",
            "    torch.manual_seed(seed)\n",
            "    np.random.seed(seed)\n",
            "\n",
            "    user_id = pwd.getpwuid( os.getuid() ).pw_name\n",
            "    curtime = time.time()\n",
            "    dt_now = datetime.datetime.now().strftime(\"%Y-%m-%d %H:%M\")\n",
            "\n",
            "    try:  # \n",
            "        HIDDEN_DATASET_PATH = os.path.expanduser(\"/data/mlproject22-test-data/sign_lang_test/images\")\n",
            "        hiddendataset_score = accuracy(dataset_path=HIDDEN_DATASET_PATH)\n",
            "\n",
            "        assert isinstance(hiddendataset_score, float), f\"type of dataset_score is {type(dataset_score)}, but it must be float\"\n",
            "        assert 0.0<=hiddendataset_score<=1.0, f\"Value of dataset_score is {dataset_score}, but it must be between 0.0 and 1.0\"\n",
            "\n",
            "        print(f\"Leaderboard score: {hiddendataset_score}\")\n",
            "\n",
            "        score_dict = dict(\n",
            "            score_hidden=hiddendataset_score,\n",
            "            score_train=dataset_score,\n",
            "            unixtime=curtime,\n",
            "            user=user_id,\n",
            "            dt=dt_now,\n",
            "            comment=\"\",\n",
            "        )\n",
            "\n",
            "    except Exception as e:\n",
            "        err = str(e)\n",
            "        score_dict = dict(\n",
            "            score_hidden=float(\"nan\"),\n",
            "            score_train=dataset_score,\n",
            "            unixtime=curtime,\n",
            "            user=user_id,\n",
            "            dt=dt_now,\n",
            "            comment=err\n",
            "        )\n",
            "\n",
            "\n",
            "    #if list(pathlib.Path(os.getcwd()).parents)[0].name == 'source':\n",
            "    #    print(\"we are in the source directory... replacing values.\")\n",
            "    #    print(pd.DataFrame([score_dict]))\n",
            "    #    score_dict[\"score_hidden\"] = -1\n",
            "    #    score_dict[\"score_train\"] = -1\n",
            "    #    print(\"new values:\")\n",
            "    #    print(pd.DataFrame([score_dict]))\n",
            "\n",
            "    pd.DataFrame([score_dict]).to_csv(\"sign_lang.csv\", index=False)\n",
            "\n",
            "    ### LEADER BOARD TEST\n",
            "    \n",
            "get_score()"
         ]
      },
      {
         "cell_type": "code",
         "execution_count": null,
         "id": "bd7b32df",
         "metadata": {},
         "outputs": [],
         "source": []
      }
   ],
   "metadata": {
      "kernelspec": {
         "display_name": ".venv",
         "language": "python",
         "name": "python3"
      },
      "language_info": {
         "codemirror_mode": {
            "name": "ipython",
            "version": 3
         },
         "file_extension": ".py",
         "mimetype": "text/x-python",
         "name": "python",
         "nbconvert_exporter": "python",
         "pygments_lexer": "ipython3",
         "version": "3.13.3"
      },
      "toc": {
         "base_numbering": 1,
         "nav_menu": {},
         "number_sections": true,
         "sideBar": true,
         "skip_h1_title": false,
         "title_cell": "Table of Contents",
         "title_sidebar": "Contents",
         "toc_cell": false,
         "toc_position": {},
         "toc_section_display": true,
         "toc_window_display": false
      },
      "varInspector": {
         "cols": {
            "lenName": 16,
            "lenType": 16,
            "lenVar": 40
         },
         "kernels_config": {
            "python": {
               "delete_cmd_postfix": "",
               "delete_cmd_prefix": "del ",
               "library": "var_list.py",
               "varRefreshCmd": "print(var_dic_list())"
            },
            "r": {
               "delete_cmd_postfix": ") ",
               "delete_cmd_prefix": "rm(",
               "library": "var_list.r",
               "varRefreshCmd": "cat(var_dic_list()) "
            }
         },
         "types_to_exclude": [
            "module",
            "function",
            "builtin_function_or_method",
            "instance",
            "_Feature"
         ],
         "window_display": false
      }
   },
   "nbformat": 4,
   "nbformat_minor": 5
}
